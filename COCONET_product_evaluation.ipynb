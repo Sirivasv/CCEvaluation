{
  "nbformat": 4,
  "nbformat_minor": 0,
  "metadata": {
    "colab": {
      "name": "COCONET_product_evaluation.ipynb",
      "provenance": [],
      "collapsed_sections": []
    },
    "kernelspec": {
      "name": "python3",
      "display_name": "Python 3"
    }
  },
  "cells": [
    {
      "cell_type": "code",
      "metadata": {
        "id": "gki14VLjWUdJ",
        "colab_type": "code",
        "outputId": "8fa7a2b1-5ae0-4506-f194-0676426c98e9",
        "colab": {
          "base_uri": "https://localhost:8080/",
          "height": 305
        }
      },
      "source": [
        "# First we download the dataset of bach chorales, here this set is assumed to be the Inspiration Set\n",
        "!wget -O Jsb16thSeparated.npz https://github.com/czhuang/JSB-Chorales-dataset/raw/master/Jsb16thSeparated.npz"
      ],
      "execution_count": 1,
      "outputs": [
        {
          "output_type": "stream",
          "text": [
            "--2020-05-16 16:20:25--  https://github.com/czhuang/JSB-Chorales-dataset/raw/master/Jsb16thSeparated.npz\r\n",
            "Resolving github.com (github.com)... 140.82.112.4\n",
            "Connecting to github.com (github.com)|140.82.112.4|:443... connected.\n",
            "HTTP request sent, awaiting response... 302 Found\n",
            "Location: https://raw.githubusercontent.com/czhuang/JSB-Chorales-dataset/master/Jsb16thSeparated.npz [following]\n",
            "--2020-05-16 16:20:26--  https://raw.githubusercontent.com/czhuang/JSB-Chorales-dataset/master/Jsb16thSeparated.npz\n",
            "Resolving raw.githubusercontent.com (raw.githubusercontent.com)... 151.101.48.133\n",
            "Connecting to raw.githubusercontent.com (raw.githubusercontent.com)|151.101.48.133|:443... connected.\n",
            "HTTP request sent, awaiting response... 200 OK\n",
            "Length: 102808 (100K) [application/octet-stream]\n",
            "Saving to: ‘Jsb16thSeparated.npz’\n",
            "\n",
            "Jsb16thSeparated.np 100%[===================>] 100.40K   375KB/s    in 0.3s    \n",
            "\n",
            "2020-05-16 16:20:26 (375 KB/s) - ‘Jsb16thSeparated.npz’ saved [102808/102808]\n",
            "\n"
          ],
          "name": "stdout"
        }
      ]
    },
    {
      "cell_type": "code",
      "metadata": {
        "id": "3SIhyCQO6mmI",
        "colab_type": "code",
        "colab": {}
      },
      "source": [
        "# We import required packages\n",
        "import numpy as np\n",
        "from magenta.models.coconet import lib_pianoroll\n",
        "from magenta.models.coconet import lib_util\n",
        "import pretty_midi\n",
        "import os"
      ],
      "execution_count": 0,
      "outputs": []
    },
    {
      "cell_type": "code",
      "metadata": {
        "id": "_XQpbdhGwFuM",
        "colab_type": "code",
        "colab": {}
      },
      "source": [
        "# We now read the file contents\n",
        "p = open(\"Jsb16thSeparated.npz\", \"rb\")\n",
        "dataset_bach_chorales = np.load(p, allow_pickle=True, encoding=\"latin1\")"
      ],
      "execution_count": 0,
      "outputs": []
    },
    {
      "cell_type": "code",
      "metadata": {
        "id": "nAf07jiH6s9Z",
        "colab_type": "code",
        "outputId": "975f2c52-bb1f-45fd-b20b-d6c9bb601b9a",
        "colab": {
          "base_uri": "https://localhost:8080/",
          "height": 35
        }
      },
      "source": [
        "dataset_bach_chorales['valid'].shape"
      ],
      "execution_count": 4,
      "outputs": [
        {
          "output_type": "execute_result",
          "data": {
            "text/plain": [
              "(76,)"
            ]
          },
          "metadata": {
            "tags": []
          },
          "execution_count": 4
        }
      ]
    },
    {
      "cell_type": "code",
      "metadata": {
        "id": "FZhcXx-A7D0M",
        "colab_type": "code",
        "outputId": "5cb6201e-f72d-4264-9dcd-be80da02e4c6",
        "colab": {
          "base_uri": "https://localhost:8080/",
          "height": 35
        }
      },
      "source": [
        "dataset_bach_chorales['train'].shape"
      ],
      "execution_count": 5,
      "outputs": [
        {
          "output_type": "execute_result",
          "data": {
            "text/plain": [
              "(229,)"
            ]
          },
          "metadata": {
            "tags": []
          },
          "execution_count": 5
        }
      ]
    },
    {
      "cell_type": "code",
      "metadata": {
        "id": "2QniUfQq7HHD",
        "colab_type": "code",
        "outputId": "70b872ad-a454-472d-ddd7-86b31414d18d",
        "colab": {
          "base_uri": "https://localhost:8080/",
          "height": 35
        }
      },
      "source": [
        "dataset_bach_chorales['test'].shape"
      ],
      "execution_count": 6,
      "outputs": [
        {
          "output_type": "execute_result",
          "data": {
            "text/plain": [
              "(77,)"
            ]
          },
          "metadata": {
            "tags": []
          },
          "execution_count": 6
        }
      ]
    },
    {
      "cell_type": "code",
      "metadata": {
        "id": "xYYpcfqBvZmJ",
        "colab_type": "code",
        "colab": {}
      },
      "source": [
        "# We define Hiperparameters\n",
        "key = \"Jsb16thSeparated\"\n",
        "min_pitch = 36\n",
        "max_pitch = 81\n",
        "shortest_duration = 0.125\n",
        "quantization_level = 0.125\n",
        "num_instruments = 4\n",
        "qpm = 60\n",
        "separate_instruments = True"
      ],
      "execution_count": 0,
      "outputs": []
    },
    {
      "cell_type": "code",
      "metadata": {
        "id": "wM-6m4WDzaFe",
        "colab_type": "code",
        "colab": {}
      },
      "source": [
        "# We define the pianoroll encoder_decoder\n",
        "pianoroll_encoder_decoder = lib_pianoroll.PianorollEncoderDecoder(\n",
        "      shortest_duration=shortest_duration,\n",
        "      min_pitch=min_pitch,\n",
        "      max_pitch=max_pitch,\n",
        "      separate_instruments=separate_instruments,\n",
        "      num_instruments=num_instruments,\n",
        "      quantization_level=quantization_level)"
      ],
      "execution_count": 0,
      "outputs": []
    },
    {
      "cell_type": "code",
      "metadata": {
        "id": "zED6Rnnp3P5Y",
        "colab_type": "code",
        "colab": {}
      },
      "source": [
        "# We get the piano rolls\n",
        "train_pianorolls = list(map(pianoroll_encoder_decoder.encode, dataset_bach_chorales['train']))"
      ],
      "execution_count": 0,
      "outputs": []
    },
    {
      "cell_type": "code",
      "metadata": {
        "id": "2n8RmYCU63m8",
        "colab_type": "code",
        "colab": {}
      },
      "source": [
        "# From the pianorolls we get the midi format\n",
        "midi_datas = []\n",
        "for pianoroll in train_pianorolls:\n",
        "  midi_data = pianoroll_encoder_decoder.decode_to_midi(pianoroll)\n",
        "  midi_datas.append(midi_data)"
      ],
      "execution_count": 0,
      "outputs": []
    },
    {
      "cell_type": "code",
      "metadata": {
        "id": "KACOyC-M8KLc",
        "colab_type": "code",
        "colab": {
          "base_uri": "https://localhost:8080/",
          "height": 109
        },
        "outputId": "6d14ad42-5e1d-4239-c45e-187aea5678be"
      },
      "source": [
        "# We save the midis\n",
        "for i, midi_data in enumerate(midi_datas):\n",
        "    midi_fpath = os.path.join(\"./TrainMidis\", \"%s_%i.midi\" % (\"TrainMidi\", i))\n",
        "    with lib_util.atomic_file(midi_fpath) as p:\n",
        "      midi_data.write(p)"
      ],
      "execution_count": 11,
      "outputs": [
        {
          "output_type": "stream",
          "text": [
            "WARNING:tensorflow:From /home/sirivasv/miniconda3/envs/magenta/lib/python3.7/site-packages/magenta/models/coconet/lib_util.py:46: The name tf.gfile.Copy is deprecated. Please use tf.io.gfile.copy instead.\n",
            "\n",
            "WARNING:tensorflow:From /home/sirivasv/miniconda3/envs/magenta/lib/python3.7/site-packages/magenta/models/coconet/lib_util.py:47: The name tf.gfile.Rename is deprecated. Please use tf.io.gfile.rename instead.\n",
            "\n"
          ],
          "name": "stdout"
        }
      ]
    },
    {
      "cell_type": "code",
      "metadata": {
        "id": "g4eBmh-09fsA",
        "colab_type": "code",
        "colab": {}
      },
      "source": [
        "# We obtain the k elements for the inspiration set\n",
        "inspiration_bag = {}\n",
        "inspiration_set = {}\n",
        "for pianoroll in train_pianorolls:\n",
        "  pianoroll_bag = []\n",
        "  for timestep in pianoroll:\n",
        "    timestep_bag = []\n",
        "    for pitchstep in timestep:\n",
        "      pitches_list = pitchstep.tolist()\n",
        "      timestep_bag.append(\"\".join(map(str, map(int,pitches_list))))\n",
        "    timestep_string = \"\".join(timestep_bag)\n",
        "    pianoroll_bag.append(timestep_string)\n",
        "    if timestep_string in inspiration_bag: \n",
        "      inspiration_bag[timestep_string] += 1 \n",
        "    else: \n",
        "      inspiration_bag[timestep_string] = 1\n",
        "  pianoroll_string = \"\".join(pianoroll_bag)\n",
        "  if pianoroll_string in inspiration_set: \n",
        "    inspiration_set[pianoroll_string] += 1 \n",
        "  else: \n",
        "    inspiration_set[pianoroll_string] = 1"
      ],
      "execution_count": 0,
      "outputs": []
    },
    {
      "cell_type": "code",
      "metadata": {
        "id": "Cuahr3mwCz7q",
        "colab_type": "code",
        "colab": {}
      },
      "source": [
        "# We obtain the frequencies\n",
        "repeated_values = []\n",
        "for key in inspiration_set:\n",
        "  repeated_values.append(inspiration_set[key])\n",
        "repeated_values = np.array(repeated_values)"
      ],
      "execution_count": 0,
      "outputs": []
    },
    {
      "cell_type": "code",
      "metadata": {
        "id": "pmVOXRAcV5hl",
        "colab_type": "code",
        "colab": {}
      },
      "source": [
        "# Read generated Midis\n",
        "generated_midis_path = \"GeneratedMidis/\"\n",
        "label_midis = \"GeneratedMidi_\"\n",
        "generated_pianorolls = []\n",
        "for i in range(50):\n",
        "  current_generated_midi_path =  generated_midis_path + label_midis + str(i) + \".midi\"\n",
        "  current_generated_midi_data = pretty_midi.PrettyMIDI(current_generated_midi_path)\n",
        "  current_generated_pianoroll = pianoroll_encoder_decoder.encode_midi_to_pianoroll(current_generated_midi_data,(1,32,46,4))\n",
        "  generated_pianorolls.append(current_generated_pianoroll[0])"
      ],
      "execution_count": 0,
      "outputs": []
    },
    {
      "cell_type": "code",
      "metadata": {
        "id": "R1rYJFQ8aabz",
        "colab_type": "code",
        "colab": {}
      },
      "source": [
        "bags_R = {}\n",
        "for generated_pianoroll in generated_pianorolls:\n",
        "  pianoroll_bag = []\n",
        "  \n",
        "  for timestep in generated_pianoroll:\n",
        "    timestep_bag = []\n",
        "    for pitchstep in timestep:\n",
        "      pitches_list = pitchstep.tolist()\n",
        "      timestep_bag.append(\"\".join(map(str, map(int,pitches_list))))\n",
        "    timestep_string = \"\".join(timestep_bag)\n",
        "    pianoroll_bag.append(timestep_string)\n",
        "\n",
        "  pianoroll_string = \"\".join(pianoroll_bag)\n",
        "  is_outside_inspiration_set = True\n",
        "  \n",
        "  if pianoroll_string in inspiration_set: \n",
        "    is_outside_inspiration_set = False\n",
        "\n",
        "  if (is_outside_inspiration_set):\n",
        "    for timestep_string in pianoroll_bag:\n",
        "      if timestep_string in bags_R: \n",
        "        bags_R[timestep_string] += 1 \n",
        "      else: \n",
        "        bags_R[timestep_string] = 1"
      ],
      "execution_count": 0,
      "outputs": []
    },
    {
      "cell_type": "code",
      "metadata": {
        "id": "l1z8Ab8_drzR",
        "colab_type": "code",
        "colab": {
          "base_uri": "https://localhost:8080/",
          "height": 35
        },
        "outputId": "434425cb-1b5d-4c77-f95c-776e231b5af4"
      },
      "source": [
        "af_bags_R = 0\n",
        "for k in bags_R:\n",
        "    af_bags_R += bags_R[k]\n",
        "af_bags_R = af_bags_R / len(bags_R)\n",
        "af_bags_R"
      ],
      "execution_count": 64,
      "outputs": [
        {
          "output_type": "execute_result",
          "data": {
            "text/plain": [
              "3.10077519379845"
            ]
          },
          "metadata": {
            "tags": []
          },
          "execution_count": 64
        }
      ]
    },
    {
      "cell_type": "code",
      "metadata": {
        "id": "SwvmTKnPhFTR",
        "colab_type": "code",
        "colab": {}
      },
      "source": [
        "rf_per_k = {}\n",
        "for k in bags_R:\n",
        "    rf_per_k[k] = bags_R[k] / af_bags_R"
      ],
      "execution_count": 0,
      "outputs": []
    },
    {
      "cell_type": "code",
      "metadata": {
        "id": "djyxATghj4J_",
        "colab_type": "code",
        "colab": {}
      },
      "source": [
        "complexities_ii2 = []\n",
        "for generated_pianoroll in generated_pianorolls:\n",
        "  pianoroll_bag = []\n",
        "  \n",
        "  for timestep in generated_pianoroll:\n",
        "    timestep_bag = []\n",
        "    for pitchstep in timestep:\n",
        "      pitches_list = pitchstep.tolist()\n",
        "      timestep_bag.append(\"\".join(map(str, map(int,pitches_list))))\n",
        "    timestep_string = \"\".join(timestep_bag)\n",
        "    pianoroll_bag.append(timestep_string)\n",
        "\n",
        "  pianoroll_string = \"\".join(pianoroll_bag)\n",
        "  is_outside_inspiration_set = True\n",
        "  \n",
        "  if pianoroll_string in inspiration_set: \n",
        "    is_outside_inspiration_set = False\n",
        "\n",
        "  if (is_outside_inspiration_set):\n",
        "    complexity_ii2 = 0\n",
        "    for element_k in pianoroll_bag:\n",
        "      complexity_ii2 += rf_per_k[element_k]\n",
        "    complexities_ii2.append(1.0 / complexity_ii2)\n",
        "complexities_ii2 = np.array(complexities_ii2)"
      ],
      "execution_count": 0,
      "outputs": []
    },
    {
      "cell_type": "code",
      "metadata": {
        "id": "xbR0qpKZlRPP",
        "colab_type": "code",
        "colab": {
          "base_uri": "https://localhost:8080/",
          "height": 35
        },
        "outputId": "4c3a2809-e388-4d71-992b-66cd96b9c545"
      },
      "source": [
        "np.median(complexities_ii2),np.mean(complexities_ii2)"
      ],
      "execution_count": 89,
      "outputs": [
        {
          "output_type": "execute_result",
          "data": {
            "text/plain": [
              "(0.017226528854435826, 0.01751810701233277)"
            ]
          },
          "metadata": {
            "tags": []
          },
          "execution_count": 89
        }
      ]
    },
    {
      "cell_type": "code",
      "metadata": {
        "id": "-0GLgsNLm7jv",
        "colab_type": "code",
        "colab": {
          "base_uri": "https://localhost:8080/",
          "height": 197
        },
        "outputId": "64b2970a-2e32-4354-d03a-f3534f274559"
      },
      "source": [
        "np.sort(complexities_ii2 * 100)"
      ],
      "execution_count": 98,
      "outputs": [
        {
          "output_type": "execute_result",
          "data": {
            "text/plain": [
              "array([0.34723126, 0.37539651, 0.42828387, 0.4969191 , 0.50666261,\n",
              "       0.53277924, 0.56583489, 0.69524107, 0.73652617, 0.75628663,\n",
              "       0.77908924, 0.88090204, 0.95115803, 0.96297366, 1.05468544,\n",
              "       1.07665805, 1.10741971, 1.14843526, 1.15700567, 1.18350198,\n",
              "       1.21599027, 1.4907573 , 1.4907573 , 1.53503722, 1.72265289,\n",
              "       1.72265289, 1.74200854, 1.82398541, 1.82398541, 1.86793686,\n",
              "       1.86793686, 1.89071658, 1.91405876, 1.98767641, 2.06718346,\n",
              "       2.12381863, 2.50062516, 2.67308206, 2.76854928, 2.76854928,\n",
              "       2.81888654, 2.87108814, 2.92525962, 2.98151461, 2.98151461,\n",
              "       3.03997568, 3.10077519, 3.26397389, 4.30663221, 4.55996352])"
            ]
          },
          "metadata": {
            "tags": []
          },
          "execution_count": 98
        }
      ]
    }
  ]
}