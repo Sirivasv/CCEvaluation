{
  "nbformat": 4,
  "nbformat_minor": 0,
  "metadata": {
    "colab": {
      "name": "COCONET_product_evaluation.ipynb",
      "provenance": [],
      "collapsed_sections": []
    },
    "kernelspec": {
      "name": "python3",
      "display_name": "Python 3"
    }
  },
  "cells": [
    {
      "cell_type": "code",
      "metadata": {
        "id": "gki14VLjWUdJ",
        "colab_type": "code",
        "outputId": "835ea3d6-7db0-445b-c3ec-7ab09dd420e5",
        "colab": {
          "base_uri": "https://localhost:8080/",
          "height": 305
        }
      },
      "source": [
        "# First we download the dataset of bach chorales, here this set is assumed to be the Inspiration Set\n",
        "!wget -O Jsb16thSeparated.npz https://github.com/czhuang/JSB-Chorales-dataset/raw/master/Jsb16thSeparated.npz"
      ],
      "execution_count": 0,
      "outputs": [
        {
          "output_type": "stream",
          "text": [
            "--2020-05-15 09:33:36--  https://github.com/czhuang/JSB-Chorales-dataset/raw/master/Jsb16thSeparated.npz\r\n",
            "Resolving github.com (github.com)... 140.82.112.4\n",
            "Connecting to github.com (github.com)|140.82.112.4|:443... connected.\n",
            "HTTP request sent, awaiting response... 302 Found\n",
            "Location: https://raw.githubusercontent.com/czhuang/JSB-Chorales-dataset/master/Jsb16thSeparated.npz [following]\n",
            "--2020-05-15 09:33:37--  https://raw.githubusercontent.com/czhuang/JSB-Chorales-dataset/master/Jsb16thSeparated.npz\n",
            "Resolving raw.githubusercontent.com (raw.githubusercontent.com)... 151.101.48.133\n",
            "Connecting to raw.githubusercontent.com (raw.githubusercontent.com)|151.101.48.133|:443... connected.\n",
            "HTTP request sent, awaiting response... 200 OK\n",
            "Length: 102808 (100K) [application/octet-stream]\n",
            "Saving to: ‘Jsb16thSeparated.npz’\n",
            "\n",
            "Jsb16thSeparated.np 100%[===================>] 100.40K  --.-KB/s    in 0.1s    \n",
            "\n",
            "2020-05-15 09:33:37 (923 KB/s) - ‘Jsb16thSeparated.npz’ saved [102808/102808]\n",
            "\n"
          ],
          "name": "stdout"
        }
      ]
    },
    {
      "cell_type": "code",
      "metadata": {
        "id": "3SIhyCQO6mmI",
        "colab_type": "code",
        "colab": {}
      },
      "source": [
        "# We import required packages\n",
        "import numpy as np\n",
        "from magenta.models.coconet import lib_pianoroll\n",
        "from magenta.models.coconet import lib_util\n",
        "import os"
      ],
      "execution_count": 0,
      "outputs": []
    },
    {
      "cell_type": "code",
      "metadata": {
        "id": "_XQpbdhGwFuM",
        "colab_type": "code",
        "colab": {}
      },
      "source": [
        "# We now read the file contents\n",
        "p = open(\"Jsb16thSeparated.npz\", \"rb\")\n",
        "dataset_bach_chorales = np.load(p, allow_pickle=True, encoding=\"latin1\")"
      ],
      "execution_count": 0,
      "outputs": []
    },
    {
      "cell_type": "code",
      "metadata": {
        "id": "nAf07jiH6s9Z",
        "colab_type": "code",
        "outputId": "0c1373f9-4fd2-49d2-bbad-8f6518ee77d2",
        "colab": {
          "base_uri": "https://localhost:8080/",
          "height": 35
        }
      },
      "source": [
        "dataset_bach_chorales['valid'].shape"
      ],
      "execution_count": 3,
      "outputs": [
        {
          "output_type": "execute_result",
          "data": {
            "text/plain": [
              "(76,)"
            ]
          },
          "metadata": {
            "tags": []
          },
          "execution_count": 3
        }
      ]
    },
    {
      "cell_type": "code",
      "metadata": {
        "id": "FZhcXx-A7D0M",
        "colab_type": "code",
        "outputId": "b0b7d8ce-bd10-4d1b-d3eb-168bac73b158",
        "colab": {
          "base_uri": "https://localhost:8080/",
          "height": 35
        }
      },
      "source": [
        "dataset_bach_chorales['train'].shape"
      ],
      "execution_count": 4,
      "outputs": [
        {
          "output_type": "execute_result",
          "data": {
            "text/plain": [
              "(229,)"
            ]
          },
          "metadata": {
            "tags": []
          },
          "execution_count": 4
        }
      ]
    },
    {
      "cell_type": "code",
      "metadata": {
        "id": "2QniUfQq7HHD",
        "colab_type": "code",
        "outputId": "75ef14f8-16f2-40b0-83d9-eb69e8827ab3",
        "colab": {
          "base_uri": "https://localhost:8080/",
          "height": 35
        }
      },
      "source": [
        "dataset_bach_chorales['test'].shape"
      ],
      "execution_count": 5,
      "outputs": [
        {
          "output_type": "execute_result",
          "data": {
            "text/plain": [
              "(77,)"
            ]
          },
          "metadata": {
            "tags": []
          },
          "execution_count": 5
        }
      ]
    },
    {
      "cell_type": "code",
      "metadata": {
        "id": "xYYpcfqBvZmJ",
        "colab_type": "code",
        "colab": {}
      },
      "source": [
        "# We define Hiperparameters\n",
        "key = \"Jsb16thSeparated\"\n",
        "min_pitch = 36\n",
        "max_pitch = 81\n",
        "shortest_duration = 0.125\n",
        "quantization_level = 0.125\n",
        "num_instruments = 4\n",
        "qpm = 60\n",
        "separate_instruments = True"
      ],
      "execution_count": 0,
      "outputs": []
    },
    {
      "cell_type": "code",
      "metadata": {
        "id": "wM-6m4WDzaFe",
        "colab_type": "code",
        "colab": {}
      },
      "source": [
        "# We define the pianoroll encoder_decoder\n",
        "pianoroll_encoder_decoder = lib_pianoroll.PianorollEncoderDecoder(\n",
        "      shortest_duration=shortest_duration,\n",
        "      min_pitch=min_pitch,\n",
        "      max_pitch=max_pitch,\n",
        "      separate_instruments=separate_instruments,\n",
        "      num_instruments=num_instruments,\n",
        "      quantization_level=quantization_level)"
      ],
      "execution_count": 0,
      "outputs": []
    },
    {
      "cell_type": "code",
      "metadata": {
        "id": "zED6Rnnp3P5Y",
        "colab_type": "code",
        "colab": {}
      },
      "source": [
        "# We get the piano rolls\n",
        "train_pianorolls = list(map(pianoroll_encoder_decoder.encode, dataset_bach_chorales['train']))"
      ],
      "execution_count": 0,
      "outputs": []
    },
    {
      "cell_type": "code",
      "metadata": {
        "id": "2n8RmYCU63m8",
        "colab_type": "code",
        "colab": {}
      },
      "source": [
        "# From the pianorolls we get the midi format\n",
        "midi_datas = []\n",
        "for pianoroll in train_pianorolls:\n",
        "  midi_data = pianoroll_encoder_decoder.decode_to_midi(pianoroll)\n",
        "  midi_datas.append(midi_data)"
      ],
      "execution_count": 0,
      "outputs": []
    },
    {
      "cell_type": "code",
      "metadata": {
        "id": "KACOyC-M8KLc",
        "colab_type": "code",
        "colab": {
          "base_uri": "https://localhost:8080/",
          "height": 109
        },
        "outputId": "6299272d-7b0b-484a-95ed-109d057e2695"
      },
      "source": [
        "# We save the midis\n",
        "for i, midi_data in enumerate(midi_datas):\n",
        "    midi_fpath = os.path.join(\"./TrainMidis\", \"%s_%i.midi\" % (\"TrainMidi\", i))\n",
        "    with lib_util.atomic_file(midi_fpath) as p:\n",
        "      midi_data.write(p)"
      ],
      "execution_count": 74,
      "outputs": [
        {
          "output_type": "stream",
          "text": [
            "WARNING:tensorflow:From /home/sirivasv/miniconda3/envs/magenta/lib/python3.7/site-packages/magenta/models/coconet/lib_util.py:46: The name tf.gfile.Copy is deprecated. Please use tf.io.gfile.copy instead.\n",
            "\n",
            "WARNING:tensorflow:From /home/sirivasv/miniconda3/envs/magenta/lib/python3.7/site-packages/magenta/models/coconet/lib_util.py:47: The name tf.gfile.Rename is deprecated. Please use tf.io.gfile.rename instead.\n",
            "\n"
          ],
          "name": "stdout"
        }
      ]
    },
    {
      "cell_type": "code",
      "metadata": {
        "id": "g4eBmh-09fsA",
        "colab_type": "code",
        "colab": {}
      },
      "source": [
        "# We obtain the k elements for the inspiration set\n",
        "inspiration_bag = {}\n",
        "inspiration_set = {}\n",
        "for pianoroll in train_pianorolls:\n",
        "  pianoroll_bag = []\n",
        "  for timestep in pianoroll:\n",
        "    timestep_bag = []\n",
        "    for pitchstep in timestep:\n",
        "      pitches_list = pitchstep.tolist()\n",
        "      timestep_bag.append(\"\".join(map(str, map(int,pitches_list))))\n",
        "    timestep_string = \"\".join(timestep_bag)\n",
        "    pianoroll_bag.append(timestep_string)\n",
        "    if timestep_string in inspiration_bag: \n",
        "      inspiration_bag[timestep_string] += 1 \n",
        "    else: \n",
        "      inspiration_bag[timestep_string] = 1\n",
        "  pianoroll_string = \"\".join(pianoroll_bag)\n",
        "  if pianoroll_string in inspiration_set: \n",
        "    inspiration_set[pianoroll_string] += 1 \n",
        "  else: \n",
        "    inspiration_set[pianoroll_string] = 1"
      ],
      "execution_count": 0,
      "outputs": []
    },
    {
      "cell_type": "code",
      "metadata": {
        "id": "Cuahr3mwCz7q",
        "colab_type": "code",
        "colab": {}
      },
      "source": [
        "# We obtain the frequencies\n",
        "repeated_values = []\n",
        "for key in inspiration_set:\n",
        "  repeated_values.append(inspiration_set[key])\n",
        "repeated_values = np.array(repeated_values)"
      ],
      "execution_count": 0,
      "outputs": []
    }
  ]
}